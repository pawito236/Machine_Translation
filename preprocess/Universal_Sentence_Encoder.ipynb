{
  "nbformat": 4,
  "nbformat_minor": 0,
  "metadata": {
    "colab": {
      "name": "Universal Sentence Encoder.ipynb",
      "provenance": [],
      "collapsed_sections": []
    },
    "kernelspec": {
      "name": "python3",
      "display_name": "Python 3"
    },
    "accelerator": "GPU"
  },
  "cells": [
    {
      "cell_type": "markdown",
      "metadata": {
        "id": "lTFmUU-PkLgD"
      },
      "source": [
        "# Multilingual Universal Sentence Encoder\n",
        "\n",
        "Multilingual Unversal Sentence Encoder เป็น model ในการทำ sentence embedding โดยที่ embeding ของ 16 ภาษานั้นจะอยู่ใน Vector Space เดียวกัน นั้นหมายความว่าเราสามารถหาความเหมือนของประโยคข้ามภาษากันได้  \n",
        "<br>\n",
        "\n",
        "ซึ่งใน colab นี้เราจะมาลองดูกันว่าทำยังไงในการตรวจสอบคุณภาพข้อมูลจาก [opensubtitle](http://opus.nlpl.eu/OpenSubtitles-v2018.php)\n",
        "\n",
        "<br>\n",
        "จัดทำโดย สถาบันวิจัยปัญญาประดิษฐ์ประเทศไทย (AIResearch)\n",
        "<br>\n",
        "Facebook & Medium: AIResearch.in.th"
      ]
    },
    {
      "cell_type": "markdown",
      "metadata": {
        "id": "n3WEakKYlO00"
      },
      "source": [
        "## Installation & Package \n",
        "\n",
        "ในการหยิบ model USE ของ google มาใช้เราจำเป็นต้องมี\n",
        " - tensorflow 2.x \n",
        " - tensorflow_text \n",
        " - tensorflow_hub"
      ]
    },
    {
      "cell_type": "code",
      "metadata": {
        "id": "HOq0IP3h2Z9F"
      },
      "source": [
        "%tensorflow_version 2.x"
      ],
      "execution_count": null,
      "outputs": []
    },
    {
      "cell_type": "code",
      "metadata": {
        "id": "YPVECTda2arn",
        "colab": {
          "base_uri": "https://localhost:8080/",
          "height": 1000
        },
        "outputId": "21c1d6cf-e89b-4a54-81e0-defefeef65e1"
      },
      "source": [
        "!pip install tensorflow_text"
      ],
      "execution_count": null,
      "outputs": [
        {
          "output_type": "stream",
          "text": [
            "Collecting tensorflow_text\n",
            "\u001b[?25l  Downloading https://files.pythonhosted.org/packages/50/35/b87b84648f84b9021df3407422d3cf9afdcbb9b087d2bf293fe72557b7a5/tensorflow_text-2.1.1-cp36-cp36m-manylinux1_x86_64.whl (8.3MB)\n",
            "\u001b[K     |████████████████████████████████| 8.3MB 5.7MB/s \n",
            "\u001b[?25hCollecting tensorflow<2.2,>=2.1.0\n",
            "\u001b[?25l  Downloading https://files.pythonhosted.org/packages/85/d4/c0cd1057b331bc38b65478302114194bd8e1b9c2bbc06e300935c0e93d90/tensorflow-2.1.0-cp36-cp36m-manylinux2010_x86_64.whl (421.8MB)\n",
            "\u001b[K     |████████████████████████████████| 421.8MB 45kB/s \n",
            "\u001b[?25hRequirement already satisfied: keras-preprocessing>=1.1.0 in /usr/local/lib/python3.6/dist-packages (from tensorflow<2.2,>=2.1.0->tensorflow_text) (1.1.0)\n",
            "Requirement already satisfied: wrapt>=1.11.1 in /usr/local/lib/python3.6/dist-packages (from tensorflow<2.2,>=2.1.0->tensorflow_text) (1.12.1)\n",
            "Requirement already satisfied: google-pasta>=0.1.6 in /usr/local/lib/python3.6/dist-packages (from tensorflow<2.2,>=2.1.0->tensorflow_text) (0.2.0)\n",
            "Requirement already satisfied: termcolor>=1.1.0 in /usr/local/lib/python3.6/dist-packages (from tensorflow<2.2,>=2.1.0->tensorflow_text) (1.1.0)\n",
            "Requirement already satisfied: astor>=0.6.0 in /usr/local/lib/python3.6/dist-packages (from tensorflow<2.2,>=2.1.0->tensorflow_text) (0.8.1)\n",
            "Requirement already satisfied: protobuf>=3.8.0 in /usr/local/lib/python3.6/dist-packages (from tensorflow<2.2,>=2.1.0->tensorflow_text) (3.10.0)\n",
            "Collecting tensorflow-estimator<2.2.0,>=2.1.0rc0\n",
            "\u001b[?25l  Downloading https://files.pythonhosted.org/packages/18/90/b77c328a1304437ab1310b463e533fa7689f4bfc41549593056d812fab8e/tensorflow_estimator-2.1.0-py2.py3-none-any.whl (448kB)\n",
            "\u001b[K     |████████████████████████████████| 450kB 41.8MB/s \n",
            "\u001b[?25hCollecting gast==0.2.2\n",
            "  Downloading https://files.pythonhosted.org/packages/4e/35/11749bf99b2d4e3cceb4d55ca22590b0d7c2c62b9de38ac4a4a7f4687421/gast-0.2.2.tar.gz\n",
            "Requirement already satisfied: absl-py>=0.7.0 in /usr/local/lib/python3.6/dist-packages (from tensorflow<2.2,>=2.1.0->tensorflow_text) (0.9.0)\n",
            "Collecting tensorboard<2.2.0,>=2.1.0\n",
            "\u001b[?25l  Downloading https://files.pythonhosted.org/packages/d9/41/bbf49b61370e4f4d245d4c6051dfb6db80cec672605c91b1652ac8cc3d38/tensorboard-2.1.1-py3-none-any.whl (3.8MB)\n",
            "\u001b[K     |████████████████████████████████| 3.9MB 35.5MB/s \n",
            "\u001b[?25hRequirement already satisfied: grpcio>=1.8.6 in /usr/local/lib/python3.6/dist-packages (from tensorflow<2.2,>=2.1.0->tensorflow_text) (1.28.1)\n",
            "Requirement already satisfied: opt-einsum>=2.3.2 in /usr/local/lib/python3.6/dist-packages (from tensorflow<2.2,>=2.1.0->tensorflow_text) (3.2.1)\n",
            "Requirement already satisfied: wheel>=0.26; python_version >= \"3\" in /usr/local/lib/python3.6/dist-packages (from tensorflow<2.2,>=2.1.0->tensorflow_text) (0.34.2)\n",
            "Requirement already satisfied: scipy==1.4.1; python_version >= \"3\" in /usr/local/lib/python3.6/dist-packages (from tensorflow<2.2,>=2.1.0->tensorflow_text) (1.4.1)\n",
            "Requirement already satisfied: numpy<2.0,>=1.16.0 in /usr/local/lib/python3.6/dist-packages (from tensorflow<2.2,>=2.1.0->tensorflow_text) (1.18.4)\n",
            "Requirement already satisfied: six>=1.12.0 in /usr/local/lib/python3.6/dist-packages (from tensorflow<2.2,>=2.1.0->tensorflow_text) (1.12.0)\n",
            "Requirement already satisfied: keras-applications>=1.0.8 in /usr/local/lib/python3.6/dist-packages (from tensorflow<2.2,>=2.1.0->tensorflow_text) (1.0.8)\n",
            "Requirement already satisfied: setuptools in /usr/local/lib/python3.6/dist-packages (from protobuf>=3.8.0->tensorflow<2.2,>=2.1.0->tensorflow_text) (46.1.3)\n",
            "Requirement already satisfied: werkzeug>=0.11.15 in /usr/local/lib/python3.6/dist-packages (from tensorboard<2.2.0,>=2.1.0->tensorflow<2.2,>=2.1.0->tensorflow_text) (1.0.1)\n",
            "Requirement already satisfied: google-auth-oauthlib<0.5,>=0.4.1 in /usr/local/lib/python3.6/dist-packages (from tensorboard<2.2.0,>=2.1.0->tensorflow<2.2,>=2.1.0->tensorflow_text) (0.4.1)\n",
            "Requirement already satisfied: requests<3,>=2.21.0 in /usr/local/lib/python3.6/dist-packages (from tensorboard<2.2.0,>=2.1.0->tensorflow<2.2,>=2.1.0->tensorflow_text) (2.23.0)\n",
            "Requirement already satisfied: markdown>=2.6.8 in /usr/local/lib/python3.6/dist-packages (from tensorboard<2.2.0,>=2.1.0->tensorflow<2.2,>=2.1.0->tensorflow_text) (3.2.1)\n",
            "Requirement already satisfied: google-auth<2,>=1.6.3 in /usr/local/lib/python3.6/dist-packages (from tensorboard<2.2.0,>=2.1.0->tensorflow<2.2,>=2.1.0->tensorflow_text) (1.7.2)\n",
            "Requirement already satisfied: h5py in /usr/local/lib/python3.6/dist-packages (from keras-applications>=1.0.8->tensorflow<2.2,>=2.1.0->tensorflow_text) (2.10.0)\n",
            "Requirement already satisfied: requests-oauthlib>=0.7.0 in /usr/local/lib/python3.6/dist-packages (from google-auth-oauthlib<0.5,>=0.4.1->tensorboard<2.2.0,>=2.1.0->tensorflow<2.2,>=2.1.0->tensorflow_text) (1.3.0)\n",
            "Requirement already satisfied: chardet<4,>=3.0.2 in /usr/local/lib/python3.6/dist-packages (from requests<3,>=2.21.0->tensorboard<2.2.0,>=2.1.0->tensorflow<2.2,>=2.1.0->tensorflow_text) (3.0.4)\n",
            "Requirement already satisfied: urllib3!=1.25.0,!=1.25.1,<1.26,>=1.21.1 in /usr/local/lib/python3.6/dist-packages (from requests<3,>=2.21.0->tensorboard<2.2.0,>=2.1.0->tensorflow<2.2,>=2.1.0->tensorflow_text) (1.24.3)\n",
            "Requirement already satisfied: idna<3,>=2.5 in /usr/local/lib/python3.6/dist-packages (from requests<3,>=2.21.0->tensorboard<2.2.0,>=2.1.0->tensorflow<2.2,>=2.1.0->tensorflow_text) (2.9)\n",
            "Requirement already satisfied: certifi>=2017.4.17 in /usr/local/lib/python3.6/dist-packages (from requests<3,>=2.21.0->tensorboard<2.2.0,>=2.1.0->tensorflow<2.2,>=2.1.0->tensorflow_text) (2020.4.5.1)\n",
            "Requirement already satisfied: pyasn1-modules>=0.2.1 in /usr/local/lib/python3.6/dist-packages (from google-auth<2,>=1.6.3->tensorboard<2.2.0,>=2.1.0->tensorflow<2.2,>=2.1.0->tensorflow_text) (0.2.8)\n",
            "Requirement already satisfied: cachetools<3.2,>=2.0.0 in /usr/local/lib/python3.6/dist-packages (from google-auth<2,>=1.6.3->tensorboard<2.2.0,>=2.1.0->tensorflow<2.2,>=2.1.0->tensorflow_text) (3.1.1)\n",
            "Requirement already satisfied: rsa<4.1,>=3.1.4 in /usr/local/lib/python3.6/dist-packages (from google-auth<2,>=1.6.3->tensorboard<2.2.0,>=2.1.0->tensorflow<2.2,>=2.1.0->tensorflow_text) (4.0)\n",
            "Requirement already satisfied: oauthlib>=3.0.0 in /usr/local/lib/python3.6/dist-packages (from requests-oauthlib>=0.7.0->google-auth-oauthlib<0.5,>=0.4.1->tensorboard<2.2.0,>=2.1.0->tensorflow<2.2,>=2.1.0->tensorflow_text) (3.1.0)\n",
            "Requirement already satisfied: pyasn1<0.5.0,>=0.4.6 in /usr/local/lib/python3.6/dist-packages (from pyasn1-modules>=0.2.1->google-auth<2,>=1.6.3->tensorboard<2.2.0,>=2.1.0->tensorflow<2.2,>=2.1.0->tensorflow_text) (0.4.8)\n",
            "Building wheels for collected packages: gast\n",
            "  Building wheel for gast (setup.py) ... \u001b[?25l\u001b[?25hdone\n",
            "  Created wheel for gast: filename=gast-0.2.2-cp36-none-any.whl size=7540 sha256=3365f089f0d53187db6733fd95b616a388dc487261c70b6c58fe0f105844a04c\n",
            "  Stored in directory: /root/.cache/pip/wheels/5c/2e/7e/a1d4d4fcebe6c381f378ce7743a3ced3699feb89bcfbdadadd\n",
            "Successfully built gast\n",
            "\u001b[31mERROR: tensorflow-probability 0.10.0rc0 has requirement gast>=0.3.2, but you'll have gast 0.2.2 which is incompatible.\u001b[0m\n",
            "Installing collected packages: tensorflow-estimator, gast, tensorboard, tensorflow, tensorflow-text\n",
            "  Found existing installation: tensorflow-estimator 2.2.0\n",
            "    Uninstalling tensorflow-estimator-2.2.0:\n",
            "      Successfully uninstalled tensorflow-estimator-2.2.0\n",
            "  Found existing installation: gast 0.3.3\n",
            "    Uninstalling gast-0.3.3:\n",
            "      Successfully uninstalled gast-0.3.3\n",
            "  Found existing installation: tensorboard 2.2.1\n",
            "    Uninstalling tensorboard-2.2.1:\n",
            "      Successfully uninstalled tensorboard-2.2.1\n",
            "  Found existing installation: tensorflow 2.2.0rc4\n",
            "    Uninstalling tensorflow-2.2.0rc4:\n",
            "      Successfully uninstalled tensorflow-2.2.0rc4\n",
            "Successfully installed gast-0.2.2 tensorboard-2.1.1 tensorflow-2.1.0 tensorflow-estimator-2.1.0 tensorflow-text-2.1.1\n"
          ],
          "name": "stdout"
        }
      ]
    },
    {
      "cell_type": "code",
      "metadata": {
        "id": "1abUQR2N2auA"
      },
      "source": [
        "import tensorflow_hub as hub\n",
        "import tensorflow_text\n",
        "import tensorflow as tf\n",
        "\n",
        "import numpy as np\n",
        "import json\n",
        "import pandas as pd\n",
        "import itertools"
      ],
      "execution_count": null,
      "outputs": []
    },
    {
      "cell_type": "markdown",
      "metadata": {
        "id": "u0ru_ZXrmWQ0"
      },
      "source": [
        "## Dataset\n",
        "\n",
        "ชุด dataset นี้เป็นข้อมูลในการทำ subtitle มีจำนวนทั้งหมดประมาณ 3.2 ล้านคู่ประโยค"
      ]
    },
    {
      "cell_type": "code",
      "metadata": {
        "id": "K99qTXf81sVY",
        "colab": {
          "base_uri": "https://localhost:8080/",
          "height": 289
        },
        "outputId": "ee39fe30-1340-477e-dc87-3c7de1c380bf"
      },
      "source": [
        "#download open subtitle EN-TH dataset\n",
        "!wget http://opus.nlpl.eu/download.php?f=OpenSubtitles/v2018/moses/en-th.txt.zip"
      ],
      "execution_count": null,
      "outputs": [
        {
          "output_type": "stream",
          "text": [
            "--2020-05-11 07:25:46--  http://opus.nlpl.eu/download.php?f=OpenSubtitles/v2018/moses/en-th.txt.zip\n",
            "Resolving opus.nlpl.eu (opus.nlpl.eu)... 193.166.25.9\n",
            "Connecting to opus.nlpl.eu (opus.nlpl.eu)|193.166.25.9|:80... connected.\n",
            "HTTP request sent, awaiting response... 302 Found\n",
            "Location: https://object.pouta.csc.fi/OPUS-OpenSubtitles/v2018/moses/en-th.txt.zip [following]\n",
            "--2020-05-11 07:25:46--  https://object.pouta.csc.fi/OPUS-OpenSubtitles/v2018/moses/en-th.txt.zip\n",
            "Resolving object.pouta.csc.fi (object.pouta.csc.fi)... 86.50.254.18, 86.50.254.19\n",
            "Connecting to object.pouta.csc.fi (object.pouta.csc.fi)|86.50.254.18|:443... connected.\n",
            "HTTP request sent, awaiting response... 200 OK\n",
            "Length: 119520928 (114M) [application/zip]\n",
            "Saving to: ‘download.php?f=OpenSubtitles%2Fv2018%2Fmoses%2Fen-th.txt.zip’\n",
            "\n",
            "download.php?f=Open 100%[===================>] 113.98M  53.4MB/s    in 2.1s    \n",
            "\n",
            "2020-05-11 07:25:49 (53.4 MB/s) - ‘download.php?f=OpenSubtitles%2Fv2018%2Fmoses%2Fen-th.txt.zip’ saved [119520928/119520928]\n",
            "\n"
          ],
          "name": "stdout"
        }
      ]
    },
    {
      "cell_type": "code",
      "metadata": {
        "id": "IC6BeFjC2B6z",
        "colab": {
          "base_uri": "https://localhost:8080/",
          "height": 102
        },
        "outputId": "d7197346-96d4-48b6-c75e-f39599f29508"
      },
      "source": [
        "!unzip download.php?f=OpenSubtitles%2Fv2018%2Fmoses%2Fen-th.txt.zip -d data"
      ],
      "execution_count": null,
      "outputs": [
        {
          "output_type": "stream",
          "text": [
            "Archive:  download.php?f=OpenSubtitles%2Fv2018%2Fmoses%2Fen-th.txt.zip\n",
            "  inflating: data/OpenSubtitles.en-th.en  \n",
            "  inflating: data/OpenSubtitles.en-th.th  \n",
            "  inflating: data/OpenSubtitles.en-th.ids  \n",
            "  inflating: data/README             \n"
          ],
          "name": "stdout"
        }
      ]
    },
    {
      "cell_type": "code",
      "metadata": {
        "id": "9fYalgEp2GDx"
      },
      "source": [
        "# Create function to read both en and th\n",
        "def read_text_file(path):\n",
        "  output = []\n",
        "\n",
        "  with open(path, 'r') as read_file:\n",
        "    for line in read_file.readlines():\n",
        "      output.append(line)\n",
        "   \n",
        "  return output"
      ],
      "execution_count": null,
      "outputs": []
    },
    {
      "cell_type": "code",
      "metadata": {
        "id": "16Dkldev2Ovj"
      },
      "source": [
        "en_data = read_text_file('data/OpenSubtitles.en-th.en')\n",
        "th_data = read_text_file('data/OpenSubtitles.en-th.th')"
      ],
      "execution_count": null,
      "outputs": []
    },
    {
      "cell_type": "code",
      "metadata": {
        "id": "8LdVzN9s2QbD"
      },
      "source": [
        "df = pd.DataFrame({'en_data': en_data, \n",
        "                   'th_data': th_data})"
      ],
      "execution_count": null,
      "outputs": []
    },
    {
      "cell_type": "code",
      "metadata": {
        "id": "L7Iq5puK2YUZ",
        "colab": {
          "base_uri": "https://localhost:8080/",
          "height": 34
        },
        "outputId": "188bd0ce-6ac4-4035-b387-7b67b8c630f2"
      },
      "source": [
        "df.shape"
      ],
      "execution_count": null,
      "outputs": [
        {
          "output_type": "execute_result",
          "data": {
            "text/plain": [
              "(3281533, 2)"
            ]
          },
          "metadata": {
            "tags": []
          },
          "execution_count": 9
        }
      ]
    },
    {
      "cell_type": "code",
      "metadata": {
        "id": "fdvoh8iT2-Xa",
        "colab": {
          "base_uri": "https://localhost:8080/",
          "height": 204
        },
        "outputId": "c7d087c8-2302-4d6e-9f7b-f8ea686dc0f0"
      },
      "source": [
        "#ดู head ก็ดูดีอยู่\n",
        "df.head()"
      ],
      "execution_count": null,
      "outputs": [
        {
          "output_type": "execute_result",
          "data": {
            "text/html": [
              "<div>\n",
              "<style scoped>\n",
              "    .dataframe tbody tr th:only-of-type {\n",
              "        vertical-align: middle;\n",
              "    }\n",
              "\n",
              "    .dataframe tbody tr th {\n",
              "        vertical-align: top;\n",
              "    }\n",
              "\n",
              "    .dataframe thead th {\n",
              "        text-align: right;\n",
              "    }\n",
              "</style>\n",
              "<table border=\"1\" class=\"dataframe\">\n",
              "  <thead>\n",
              "    <tr style=\"text-align: right;\">\n",
              "      <th></th>\n",
              "      <th>en_data</th>\n",
              "      <th>th_data</th>\n",
              "    </tr>\n",
              "  </thead>\n",
              "  <tbody>\n",
              "    <tr>\n",
              "      <th>0</th>\n",
              "      <td>Slave in the Magic Mirror, come from the farth...</td>\n",
              "      <td>ทาสในกระจกวิเศษ, มาจากพื้นที่ที่ไกลที่สุด\\n</td>\n",
              "    </tr>\n",
              "    <tr>\n",
              "      <th>1</th>\n",
              "      <td>Through wind and darkness, I summon thee.\\n</td>\n",
              "      <td>ผ่านลมและความมืดฉันเรียกเจ้า\\n</td>\n",
              "    </tr>\n",
              "    <tr>\n",
              "      <th>2</th>\n",
              "      <td>Speak!\\n</td>\n",
              "      <td>พูด!\\n</td>\n",
              "    </tr>\n",
              "    <tr>\n",
              "      <th>3</th>\n",
              "      <td>Let me see thy face.\\n</td>\n",
              "      <td>ให้ฉันเห็นพระพักตร์ของ พระองค์\\n</td>\n",
              "    </tr>\n",
              "    <tr>\n",
              "      <th>4</th>\n",
              "      <td>What wouldst thou know, my Queen?\\n</td>\n",
              "      <td>สิ่งที่เจ้าจะรู้ว่าสมเด็จพระราชินี ของฉันได้อย...</td>\n",
              "    </tr>\n",
              "  </tbody>\n",
              "</table>\n",
              "</div>"
            ],
            "text/plain": [
              "                                             en_data                                            th_data\n",
              "0  Slave in the Magic Mirror, come from the farth...        ทาสในกระจกวิเศษ, มาจากพื้นที่ที่ไกลที่สุด\\n\n",
              "1        Through wind and darkness, I summon thee.\\n                     ผ่านลมและความมืดฉันเรียกเจ้า\\n\n",
              "2                                           Speak!\\n                                             พูด!\\n\n",
              "3                             Let me see thy face.\\n                   ให้ฉันเห็นพระพักตร์ของ พระองค์\\n\n",
              "4                What wouldst thou know, my Queen?\\n  สิ่งที่เจ้าจะรู้ว่าสมเด็จพระราชินี ของฉันได้อย..."
            ]
          },
          "metadata": {
            "tags": []
          },
          "execution_count": 10
        }
      ]
    },
    {
      "cell_type": "code",
      "metadata": {
        "id": "lD6TN8lsokK4",
        "colab": {
          "base_uri": "https://localhost:8080/",
          "height": 68
        },
        "outputId": "71441a4e-eb3a-4697-b795-c078a5fc3662"
      },
      "source": [
        "#แต่ก็มีบางอันที่แปลไม่ถูกเหมือนกัน\n",
        "df.iloc[645316]"
      ],
      "execution_count": null,
      "outputs": [
        {
          "output_type": "execute_result",
          "data": {
            "text/plain": [
              "en_data                                      Sorry, boys.\\n\n",
              "th_data    ออกไปจากที่นี่ได้ ฉันจะเปลี่ยนแปลงตัว โอเคมั้ย\\n\n",
              "Name: 645316, dtype: object"
            ]
          },
          "metadata": {
            "tags": []
          },
          "execution_count": 20
        }
      ]
    },
    {
      "cell_type": "markdown",
      "metadata": {
        "id": "s36Wp4lTovaX"
      },
      "source": [
        "## Multilingual Unversal Sentence Encoder from Tensorflow hub"
      ]
    },
    {
      "cell_type": "code",
      "metadata": {
        "id": "hvCcvrzE3Nfz"
      },
      "source": [
        "#Create USE embedding by using tensorflow hub\n",
        "embed = hub.load(\"https://tfhub.dev/google/universal-sentence-encoder-multilingual/3\")"
      ],
      "execution_count": null,
      "outputs": []
    },
    {
      "cell_type": "code",
      "metadata": {
        "id": "mGNnPYqTo22N"
      },
      "source": [
        "#Create mockup sentence\n",
        "sentences = ['ฉันชอบหมามากๆ']"
      ],
      "execution_count": null,
      "outputs": []
    },
    {
      "cell_type": "code",
      "metadata": {
        "id": "8Hw-K7c5o64J",
        "colab": {
          "base_uri": "https://localhost:8080/",
          "height": 1000
        },
        "outputId": "79c7eeb9-5777-4de5-feb6-968351de92ac"
      },
      "source": [
        "#Get sentence embedding\n",
        "embed(sentences)"
      ],
      "execution_count": null,
      "outputs": [
        {
          "output_type": "execute_result",
          "data": {
            "text/plain": [
              "<tf.Tensor: shape=(1, 512), dtype=float32, numpy=\n",
              "array([[ 0.03348423, -0.06594724,  0.03950755,  0.04621329, -0.10738036,\n",
              "         0.01468914, -0.02351864,  0.0491148 , -0.08298343,  0.01641721,\n",
              "        -0.02722485,  0.01400877,  0.09527715,  0.06409989,  0.01069192,\n",
              "         0.04308213, -0.02290481, -0.00523085,  0.07797866,  0.05206088,\n",
              "        -0.01314825,  0.00568864, -0.02676987,  0.0304546 , -0.07763009,\n",
              "        -0.05057951,  0.04949673, -0.0261358 ,  0.01342152, -0.04488368,\n",
              "        -0.04447207, -0.01044451, -0.04691579, -0.07239084,  0.02885035,\n",
              "        -0.00017215, -0.01861167, -0.03902013, -0.01487683,  0.00985493,\n",
              "         0.02210216,  0.00267068, -0.0216059 ,  0.07730269, -0.05926208,\n",
              "        -0.08935834, -0.09016439,  0.01313246, -0.00555023, -0.01097908,\n",
              "         0.05580696,  0.0093157 ,  0.01226588, -0.0465791 ,  0.0735788 ,\n",
              "         0.00390066, -0.08514211, -0.00407269,  0.07633574, -0.02093282,\n",
              "         0.02272809, -0.00105881, -0.00021839,  0.05675113,  0.07545897,\n",
              "        -0.03659043,  0.0330631 ,  0.05878355,  0.010956  , -0.0194708 ,\n",
              "         0.05143097, -0.05962107, -0.0621524 , -0.04442056,  0.04796454,\n",
              "         0.00238837, -0.04840828,  0.02449557,  0.02787555,  0.0814876 ,\n",
              "        -0.10475221,  0.06281953, -0.02042888,  0.05570725, -0.0585331 ,\n",
              "         0.07548531,  0.04545092,  0.03256809, -0.07587057,  0.06050923,\n",
              "        -0.03968738, -0.06783443, -0.0250903 , -0.05582949,  0.00457826,\n",
              "         0.0027033 , -0.0653789 , -0.0676125 , -0.00719227, -0.02029827,\n",
              "        -0.02277201,  0.02719573,  0.03534805,  0.00180008, -0.04600389,\n",
              "        -0.04531395, -0.01397061, -0.03177544,  0.02774076, -0.01741405,\n",
              "         0.02315211, -0.01917283,  0.09918477, -0.07057653,  0.01974738,\n",
              "        -0.03184489, -0.06251857,  0.00920844,  0.0352401 , -0.06673707,\n",
              "        -0.025158  ,  0.0374542 ,  0.0088184 ,  0.00123255, -0.04761625,\n",
              "        -0.05090212, -0.04413455,  0.0500878 , -0.04581809, -0.03189189,\n",
              "        -0.04285546,  0.0157519 , -0.06744338,  0.04219264, -0.10534046,\n",
              "         0.07840741, -0.01617372, -0.02578914,  0.04141674,  0.01753248,\n",
              "        -0.0044083 , -0.03608794, -0.01733212,  0.05700161,  0.06322993,\n",
              "         0.00858719, -0.05481242,  0.00077371,  0.03960297, -0.02344692,\n",
              "        -0.05395703,  0.06641062,  0.06275468,  0.00974964, -0.05247847,\n",
              "        -0.04529502, -0.01928152,  0.04375759, -0.04089189, -0.02911111,\n",
              "        -0.01888499,  0.05456971, -0.02091548,  0.01148095,  0.03817169,\n",
              "        -0.0321057 ,  0.0343718 ,  0.01334313, -0.02011239,  0.08182014,\n",
              "         0.09418476,  0.01466299, -0.01670698, -0.03547198, -0.00388205,\n",
              "        -0.06818493, -0.01497379, -0.01459591, -0.00342899, -0.07939004,\n",
              "         0.05413795,  0.00703109,  0.04388425,  0.01660406,  0.02282676,\n",
              "         0.02534652, -0.02876725,  0.02814892,  0.02796669, -0.0242802 ,\n",
              "         0.01356545,  0.0393474 ,  0.03784247, -0.04070359, -0.08447058,\n",
              "        -0.00659566,  0.00377362, -0.0002867 ,  0.01873304, -0.03333166,\n",
              "         0.06012724, -0.09867584, -0.01506899,  0.04169751,  0.00804029,\n",
              "         0.00135681, -0.03718689, -0.00256524, -0.03774676,  0.04203104,\n",
              "         0.02251951, -0.04097541,  0.05854014,  0.05043774,  0.02266691,\n",
              "        -0.02316818,  0.05418219,  0.0191454 ,  0.04846115, -0.01718888,\n",
              "        -0.03514614,  0.02991766,  0.03360922, -0.07881396,  0.05925915,\n",
              "         0.03599721,  0.00995113,  0.0078056 ,  0.01475263, -0.0050638 ,\n",
              "        -0.03812768,  0.06169354,  0.09524172, -0.04182761, -0.00423823,\n",
              "         0.06492869,  0.0111449 , -0.07998457,  0.00168734, -0.02084468,\n",
              "         0.0077935 ,  0.00186291, -0.03481452,  0.02556134,  0.0019553 ,\n",
              "        -0.00360937,  0.08258072, -0.02108376, -0.03836406, -0.03984575,\n",
              "         0.10653577,  0.04367277, -0.00505058, -0.0800903 ,  0.00646787,\n",
              "        -0.00942151, -0.0003862 ,  0.02859869, -0.02419852, -0.04871394,\n",
              "         0.09345442,  0.00491031, -0.04899234, -0.04121364, -0.09542669,\n",
              "        -0.00654948,  0.02671101,  0.09658429, -0.04638706, -0.00775831,\n",
              "         0.00554302, -0.07513748, -0.00870702, -0.04972497, -0.01523406,\n",
              "         0.01903439,  0.00421865, -0.06004402, -0.04528536, -0.01537024,\n",
              "        -0.06104736, -0.03581054,  0.03362608,  0.03456319,  0.05467963,\n",
              "        -0.04720275,  0.01807347,  0.01300337,  0.02898233, -0.01355449,\n",
              "        -0.00877566, -0.00048247,  0.0355336 ,  0.04516795,  0.06633343,\n",
              "        -0.05678053, -0.00941024,  0.00373911, -0.00517531,  0.04240735,\n",
              "         0.02321052,  0.00659524, -0.01934509, -0.04166678, -0.05127539,\n",
              "        -0.01362433, -0.07046006,  0.04288615, -0.03763537, -0.01689433,\n",
              "         0.03096264,  0.02696334,  0.0189702 ,  0.05050198,  0.00679084,\n",
              "        -0.03406509,  0.03269596,  0.04501352, -0.0747114 , -0.04694305,\n",
              "         0.01956241, -0.07469967, -0.00994171,  0.03021285, -0.02681058,\n",
              "         0.07393527, -0.0194855 ,  0.0009137 ,  0.04478361,  0.00501074,\n",
              "         0.03199867, -0.05804572, -0.08767468,  0.02986667, -0.02098504,\n",
              "         0.00662036, -0.02844623, -0.03420711, -0.04229149, -0.00263762,\n",
              "         0.08256882,  0.01503862,  0.00332637,  0.02583125, -0.02491799,\n",
              "         0.01973454, -0.02270878, -0.01040409,  0.00023654,  0.02259477,\n",
              "        -0.01560032,  0.02145654, -0.01348899, -0.01530677, -0.05727862,\n",
              "         0.05154866, -0.01230897, -0.01661892, -0.08506715,  0.0675401 ,\n",
              "         0.00117435, -0.00661509, -0.01839141, -0.04477968,  0.02280853,\n",
              "        -0.05175216, -0.0206369 , -0.10775501,  0.02409035,  0.02011758,\n",
              "        -0.04075845, -0.0149519 , -0.00502571, -0.06565554,  0.00156902,\n",
              "        -0.00314344, -0.02473777,  0.00842775, -0.09894691, -0.00520069,\n",
              "        -0.02301307, -0.06937917, -0.0113374 ,  0.02141906,  0.06893938,\n",
              "        -0.03319317,  0.09616552,  0.01925828, -0.04198579,  0.08021179,\n",
              "         0.04356065, -0.01246085, -0.05600901, -0.02747602, -0.00084648,\n",
              "        -0.07910083, -0.02778339, -0.02617848,  0.03649112,  0.03666599,\n",
              "        -0.00882033, -0.056958  ,  0.00703662, -0.03880062,  0.00115973,\n",
              "         0.01385835, -0.02529732, -0.04438118,  0.00713623, -0.000729  ,\n",
              "        -0.04088207,  0.03909395,  0.00467133, -0.03759273, -0.01537628,\n",
              "         0.00236473,  0.01464914,  0.03087432,  0.05318995,  0.09914805,\n",
              "        -0.00957136,  0.0054574 , -0.00947222,  0.02263104,  0.05814674,\n",
              "        -0.0284796 , -0.10188093,  0.07109473,  0.0154895 , -0.02505507,\n",
              "        -0.04077331, -0.03327756,  0.00879474, -0.0569176 ,  0.00013327,\n",
              "        -0.03223203,  0.00168215, -0.00840659, -0.06220169,  0.02367787,\n",
              "        -0.0660281 , -0.05128704,  0.09064943,  0.03631129, -0.01939389,\n",
              "        -0.02764953,  0.09902212,  0.08624549, -0.03677392,  0.00220845,\n",
              "         0.01169739,  0.03991889, -0.03046807,  0.00253864, -0.00824476,\n",
              "        -0.00264069, -0.06533193,  0.00632602,  0.0178022 ,  0.09529074,\n",
              "        -0.06323806, -0.04829214, -0.06390803,  0.00971333,  0.00713272,\n",
              "         0.00658482,  0.02065072,  0.06425625, -0.04336656, -0.03637439,\n",
              "         0.03252642,  0.09662391, -0.02004262, -0.09403651, -0.02744594,\n",
              "        -0.00602602, -0.00294729,  0.00921579,  0.01041799, -0.0124669 ,\n",
              "        -0.01049518,  0.06024893, -0.00931358,  0.00386692, -0.08627936,\n",
              "         0.03076162,  0.07809102,  0.06504584,  0.02512662,  0.02027875,\n",
              "         0.02839206, -0.06312404, -0.02693655,  0.0152091 ,  0.08150014,\n",
              "        -0.09148958, -0.004816  ,  0.05534851, -0.01968499,  0.06302705,\n",
              "        -0.10169114, -0.00482821,  0.00307643,  0.01212258,  0.04724985,\n",
              "         0.05215071,  0.02760976,  0.01825937, -0.05773108, -0.01471689,\n",
              "        -0.04000611,  0.05246058]], dtype=float32)>"
            ]
          },
          "metadata": {
            "tags": []
          },
          "execution_count": 26
        }
      ]
    },
    {
      "cell_type": "markdown",
      "metadata": {
        "id": "0ijqbm3rp27v"
      },
      "source": [
        "## Find distance"
      ]
    },
    {
      "cell_type": "code",
      "metadata": {
        "id": "KuPPg4yj3Q3f"
      },
      "source": [
        "def get_similar_score(lang1: list, lang2:list , batch_size:int):\n",
        "  '''\n",
        "  get_similar_score is a function to get similarity score of sentence pair\n",
        "\n",
        "\n",
        "  Input: \n",
        "   lang1: list of sentence of lang1 \n",
        "   lang2: list of sentence of lang2 \n",
        "   batch_size: batch_size\n",
        "\n",
        "   ** As sometime data is too big, too do on one go\n",
        "      the we need to do it as a batch\n",
        "  \n",
        "  outout: \n",
        "   scores: list of score\n",
        "  '''\n",
        "\n",
        "  scores =[]\n",
        "\n",
        "  if len(lang1)%batch_size != 0:\n",
        "    num_of_batch = int(len(lang1)/batch_size)+1\n",
        "  else:\n",
        "    num_of_batch = int(len(lang1)/batch_size)\n",
        "  \n",
        "  print(num_of_batch)\n",
        "\n",
        "  for i in range(num_of_batch):\n",
        "    start = i*batch_size\n",
        "    end = start+batch_size\n",
        "    if i <= num_of_batch:\n",
        "\n",
        "      lang1_temp = lang1[start:end]\n",
        "      lang2_temp = lang2[start:end]\n",
        "      \n",
        "      lang1_embedding = embed(lang1_temp)\n",
        "      lang2_embedding = embed(lang2_temp)\n",
        "      distance_matrix = tf.matmul(lang1_embedding, lang2_embedding, transpose_b=True).numpy()\n",
        "\n",
        "      for j in range(len(distance_matrix)):\n",
        "        scores.append(distance_matrix[j][j])\n",
        "\n",
        "  return scores"
      ],
      "execution_count": null,
      "outputs": []
    },
    {
      "cell_type": "code",
      "metadata": {
        "id": "zxmm47ba3Yyt",
        "colab": {
          "base_uri": "https://localhost:8080/",
          "height": 34
        },
        "outputId": "b01436e6-d97c-40ca-b38e-055685eda7af"
      },
      "source": [
        "scores = get_similar_score(en_data, th_data, 10000)"
      ],
      "execution_count": null,
      "outputs": [
        {
          "output_type": "stream",
          "text": [
            "329\n"
          ],
          "name": "stdout"
        }
      ]
    },
    {
      "cell_type": "code",
      "metadata": {
        "id": "5pNw-Ss33aOG"
      },
      "source": [
        "#Create dataframe that has en, th, score as a columns\n",
        "df = pd.DataFrame({'en':en_data, 'th': th_data, 'score':scores})"
      ],
      "execution_count": null,
      "outputs": []
    },
    {
      "cell_type": "code",
      "metadata": {
        "id": "Q-spjBQ13hTH",
        "colab": {
          "base_uri": "https://localhost:8080/",
          "height": 204
        },
        "outputId": "a3930cee-11a2-445f-a1fe-a29ed23a0fe0"
      },
      "source": [
        "df.head()"
      ],
      "execution_count": null,
      "outputs": [
        {
          "output_type": "execute_result",
          "data": {
            "text/html": [
              "<div>\n",
              "<style scoped>\n",
              "    .dataframe tbody tr th:only-of-type {\n",
              "        vertical-align: middle;\n",
              "    }\n",
              "\n",
              "    .dataframe tbody tr th {\n",
              "        vertical-align: top;\n",
              "    }\n",
              "\n",
              "    .dataframe thead th {\n",
              "        text-align: right;\n",
              "    }\n",
              "</style>\n",
              "<table border=\"1\" class=\"dataframe\">\n",
              "  <thead>\n",
              "    <tr style=\"text-align: right;\">\n",
              "      <th></th>\n",
              "      <th>en</th>\n",
              "      <th>th</th>\n",
              "      <th>score</th>\n",
              "    </tr>\n",
              "  </thead>\n",
              "  <tbody>\n",
              "    <tr>\n",
              "      <th>0</th>\n",
              "      <td>Slave in the Magic Mirror, come from the farth...</td>\n",
              "      <td>ทาสในกระจกวิเศษ, มาจากพื้นที่ที่ไกลที่สุด\\n</td>\n",
              "      <td>0.726472</td>\n",
              "    </tr>\n",
              "    <tr>\n",
              "      <th>1</th>\n",
              "      <td>Through wind and darkness, I summon thee.\\n</td>\n",
              "      <td>ผ่านลมและความมืดฉันเรียกเจ้า\\n</td>\n",
              "      <td>0.802946</td>\n",
              "    </tr>\n",
              "    <tr>\n",
              "      <th>2</th>\n",
              "      <td>Speak!\\n</td>\n",
              "      <td>พูด!\\n</td>\n",
              "      <td>0.742168</td>\n",
              "    </tr>\n",
              "    <tr>\n",
              "      <th>3</th>\n",
              "      <td>Let me see thy face.\\n</td>\n",
              "      <td>ให้ฉันเห็นพระพักตร์ของ พระองค์\\n</td>\n",
              "      <td>0.536011</td>\n",
              "    </tr>\n",
              "    <tr>\n",
              "      <th>4</th>\n",
              "      <td>What wouldst thou know, my Queen?\\n</td>\n",
              "      <td>สิ่งที่เจ้าจะรู้ว่าสมเด็จพระราชินี ของฉันได้อย...</td>\n",
              "      <td>0.807820</td>\n",
              "    </tr>\n",
              "  </tbody>\n",
              "</table>\n",
              "</div>"
            ],
            "text/plain": [
              "                                                  en  ...     score\n",
              "0  Slave in the Magic Mirror, come from the farth...  ...  0.726472\n",
              "1        Through wind and darkness, I summon thee.\\n  ...  0.802946\n",
              "2                                           Speak!\\n  ...  0.742168\n",
              "3                             Let me see thy face.\\n  ...  0.536011\n",
              "4                What wouldst thou know, my Queen?\\n  ...  0.807820\n",
              "\n",
              "[5 rows x 3 columns]"
            ]
          },
          "metadata": {
            "tags": []
          },
          "execution_count": 30
        }
      ]
    },
    {
      "cell_type": "code",
      "metadata": {
        "id": "wn-BK-LQ5Hi-",
        "colab": {
          "base_uri": "https://localhost:8080/",
          "height": 282
        },
        "outputId": "85609fe7-7ee4-49a9-9109-a15f1bf3bdc7"
      },
      "source": [
        "df['score'].plot(kind='hist', bins=20)"
      ],
      "execution_count": null,
      "outputs": [
        {
          "output_type": "execute_result",
          "data": {
            "text/plain": [
              "<matplotlib.axes._subplots.AxesSubplot at 0x7fbf55894b38>"
            ]
          },
          "metadata": {
            "tags": []
          },
          "execution_count": 31
        },
        {
          "output_type": "display_data",
          "data": {
            "image/png": "[encoded data removed]",
            "text/plain": [
              "<Figure size 432x288 with 1 Axes>"
            ]
          },
          "metadata": {
            "tags": [],
            "needs_background": "light"
          }
        }
      ]
    },
    {
      "cell_type": "code",
      "metadata": {
        "id": "hAy1AoJv5KIS",
        "colab": {
          "base_uri": "https://localhost:8080/",
          "height": 204
        },
        "outputId": "ce64690c-1dbc-4057-fbd1-c5502f6b406a"
      },
      "source": [
        "#low score sentence trend to get bad translation\n",
        "df[(df['score'])<0.3].sample(5)"
      ],
      "execution_count": null,
      "outputs": [
        {
          "output_type": "execute_result",
          "data": {
            "text/html": [
              "<div>\n",
              "<style scoped>\n",
              "    .dataframe tbody tr th:only-of-type {\n",
              "        vertical-align: middle;\n",
              "    }\n",
              "\n",
              "    .dataframe tbody tr th {\n",
              "        vertical-align: top;\n",
              "    }\n",
              "\n",
              "    .dataframe thead th {\n",
              "        text-align: right;\n",
              "    }\n",
              "</style>\n",
              "<table border=\"1\" class=\"dataframe\">\n",
              "  <thead>\n",
              "    <tr style=\"text-align: right;\">\n",
              "      <th></th>\n",
              "      <th>en</th>\n",
              "      <th>th</th>\n",
              "      <th>score</th>\n",
              "    </tr>\n",
              "  </thead>\n",
              "  <tbody>\n",
              "    <tr>\n",
              "      <th>473414</th>\n",
              "      <td>Me scratching to get in.\\n</td>\n",
              "      <td>ฉันพยายามเข้าถึงคุณด้วยความยากลำบาก\\n</td>\n",
              "      <td>0.267541</td>\n",
              "    </tr>\n",
              "    <tr>\n",
              "      <th>973238</th>\n",
              "      <td>Why are you...\\n</td>\n",
              "      <td>ทำไม่เธอ\\n</td>\n",
              "      <td>0.198270</td>\n",
              "    </tr>\n",
              "    <tr>\n",
              "      <th>3135474</th>\n",
              "      <td>So we expand our team.\\n</td>\n",
              "      <td>แปลว่าต้องหาคนเพิ่ม\\n</td>\n",
              "      <td>0.130799</td>\n",
              "    </tr>\n",
              "    <tr>\n",
              "      <th>1677727</th>\n",
              "      <td>Yes, Oppa.\\n</td>\n",
              "      <td>ค่ะ พี่ชาย\\n</td>\n",
              "      <td>0.225503</td>\n",
              "    </tr>\n",
              "    <tr>\n",
              "      <th>2135285</th>\n",
              "      <td>Angelique...\\n</td>\n",
              "      <td>ขอโทษนะแอนเจลิค แต่\\n</td>\n",
              "      <td>0.246243</td>\n",
              "    </tr>\n",
              "  </tbody>\n",
              "</table>\n",
              "</div>"
            ],
            "text/plain": [
              "                                 en  ...     score\n",
              "473414   Me scratching to get in.\\n  ...  0.267541\n",
              "973238             Why are you...\\n  ...  0.198270\n",
              "3135474    So we expand our team.\\n  ...  0.130799\n",
              "1677727                Yes, Oppa.\\n  ...  0.225503\n",
              "2135285              Angelique...\\n  ...  0.246243\n",
              "\n",
              "[5 rows x 3 columns]"
            ]
          },
          "metadata": {
            "tags": []
          },
          "execution_count": 32
        }
      ]
    },
    {
      "cell_type": "code",
      "metadata": {
        "id": "cu8J-bLF5T8B",
        "colab": {
          "base_uri": "https://localhost:8080/",
          "height": 204
        },
        "outputId": "ad18801c-5116-4946-cf2b-6ec28893f692"
      },
      "source": [
        "#high score sentence trend to get good translation\n",
        "df[(df['score'])>0.7].sample(5)"
      ],
      "execution_count": null,
      "outputs": [
        {
          "output_type": "execute_result",
          "data": {
            "text/html": [
              "<div>\n",
              "<style scoped>\n",
              "    .dataframe tbody tr th:only-of-type {\n",
              "        vertical-align: middle;\n",
              "    }\n",
              "\n",
              "    .dataframe tbody tr th {\n",
              "        vertical-align: top;\n",
              "    }\n",
              "\n",
              "    .dataframe thead th {\n",
              "        text-align: right;\n",
              "    }\n",
              "</style>\n",
              "<table border=\"1\" class=\"dataframe\">\n",
              "  <thead>\n",
              "    <tr style=\"text-align: right;\">\n",
              "      <th></th>\n",
              "      <th>en</th>\n",
              "      <th>th</th>\n",
              "      <th>score</th>\n",
              "    </tr>\n",
              "  </thead>\n",
              "  <tbody>\n",
              "    <tr>\n",
              "      <th>810183</th>\n",
              "      <td>There is no other country in the world!\\n</td>\n",
              "      <td>ไม่มีประเทศไหนในโลก\\n</td>\n",
              "      <td>0.763642</td>\n",
              "    </tr>\n",
              "    <tr>\n",
              "      <th>1374847</th>\n",
              "      <td>I am comfortable if you choose to believe that.\\n</td>\n",
              "      <td>ฉันจะรู้สึกดีถ้าคุณเลือกที่จะเชื่ออย่างนั้น\\n</td>\n",
              "      <td>0.712632</td>\n",
              "    </tr>\n",
              "    <tr>\n",
              "      <th>2808010</th>\n",
              "      <td>It was an experience.\\n</td>\n",
              "      <td>มันเป็นประสบการณ์\\n</td>\n",
              "      <td>0.917878</td>\n",
              "    </tr>\n",
              "    <tr>\n",
              "      <th>520569</th>\n",
              "      <td>I am going to kill them. I will die?\\n</td>\n",
              "      <td>ฉันกำลังจะไปฆ่าเค้า ฉันกำลังจะตาย?\\n</td>\n",
              "      <td>0.852705</td>\n",
              "    </tr>\n",
              "    <tr>\n",
              "      <th>1423503</th>\n",
              "      <td>I explicitly say I want no air freshener, and ...</td>\n",
              "      <td>ฉันขอพูดอย่างชัดเจน ฉันไม่อยากสูดมลพิษทางอากาศ...</td>\n",
              "      <td>0.712072</td>\n",
              "    </tr>\n",
              "  </tbody>\n",
              "</table>\n",
              "</div>"
            ],
            "text/plain": [
              "                                                        en  ...     score\n",
              "810183           There is no other country in the world!\\n  ...  0.763642\n",
              "1374847  I am comfortable if you choose to believe that.\\n  ...  0.712632\n",
              "2808010                            It was an experience.\\n  ...  0.917878\n",
              "520569              I am going to kill them. I will die?\\n  ...  0.852705\n",
              "1423503  I explicitly say I want no air freshener, and ...  ...  0.712072\n",
              "\n",
              "[5 rows x 3 columns]"
            ]
          },
          "metadata": {
            "tags": []
          },
          "execution_count": 33
        }
      ]
    },
    {
      "cell_type": "code",
      "metadata": {
        "id": "TqBYsZzPHa8Z"
      },
      "source": [
        ""
      ],
      "execution_count": null,
      "outputs": []
    }
  ]
}